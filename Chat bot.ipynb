{
 "cells": [
  {
   "cell_type": "code",
   "execution_count": 2,
   "id": "9a6965dc",
   "metadata": {},
   "outputs": [],
   "source": [
    "from tkinter import *"
   ]
  },
  {
   "cell_type": "code",
   "execution_count": null,
   "id": "cd345887",
   "metadata": {},
   "outputs": [
    {
     "name": "stderr",
     "output_type": "stream",
     "text": [
      "Exception in Tkinter callback\n",
      "Traceback (most recent call last):\n",
      "  File \"C:\\Users\\Appu\\AppData\\Local\\Programs\\Python\\Python39\\lib\\tkinter\\__init__.py\", line 1892, in __call__\n",
      "    return self.func(*args)\n",
      "  File \"C:\\Users\\Appu\\AppData\\Local\\Temp/ipykernel_5592/2109798547.py\", line 8, in send\n",
      "    txt.insert(END, \"\\n\"+ \"Bot -> hii\").pack(side=RIGHT)\n",
      "AttributeError: 'NoneType' object has no attribute 'pack'\n"
     ]
    }
   ],
   "source": [
    "root = Tk()\n",
    "\n",
    "def send():\n",
    "    send=\"you -> \"+e.get()\n",
    "    txt.insert(END, \"\\n\"+send)\n",
    "#     bot k reply k liye elif\n",
    "    if(e.get()=='hello'):\n",
    "        txt.insert(END, \"\\n\"+ \"Bot -> hii\").pack(side=RIGHT)\n",
    "    elif(e.get()=='hii'):\n",
    "        txt.insert(END, \"\\n\"+ \"Bot -> hello\")\n",
    "    elif(e.get()=='how are you'):\n",
    "        txt.insert(END, \"\\n\"+ \"Bot -> fine and you\")\n",
    "    elif(e.get()=='fine'):\n",
    "        txt.insert(END, \"\\n\"+ \"Bot -> Nice to hear\")\n",
    "    else:\n",
    "        txt.insert(END, \"\\n\"+ \"Bot -> Sorry I didn't get it\")\n",
    "\n",
    "    e.delete(0, END) #Entry text delete krne k liye\n",
    "\n",
    "txt = Text(root)\n",
    "txt.grid(row=0, column=0, columnspan=2)\n",
    "e=Entry(root, width=100)\n",
    "btn=Button(root, text=\"Send\", command=send).grid(row=1, column=1)\n",
    "e.grid(row=1, column=0)\n",
    "\n",
    "root.title(\"Chat Bot\")\n",
    "root.mainloop()"
   ]
  },
  {
   "cell_type": "code",
   "execution_count": null,
   "id": "c2b6bb61",
   "metadata": {},
   "outputs": [],
   "source": [
    "root = Tk()\n",
    "\n",
    "def send():\n",
    "    send=\"you -> \"+e.get()\n",
    "    txt.insert(END, \"\\n\"+send)\n",
    "#     bot k reply k liye elif\n",
    "    if(e.get()=='hello'):\n",
    "        txt.insert(END, \"\\n\"+ \"Bot -> hii\")\n",
    "    elif(e.get()=='hii'):\n",
    "        txt.insert(END, \"\\n\"+ \"Bot -> hello\")\n",
    "    elif(e.get()=='how are you'):\n",
    "        txt.insert(END, \"\\n\"+ \"Bot -> fine and you\")\n",
    "    elif(e.get()=='fine'):\n",
    "        txt.insert(END, \"\\n\"+ \"Bot -> Nice to hear\")\n",
    "    else:\n",
    "        txt.insert(END, \"\\n\"+ \"Bot -> Sorry I didn't get it\")\n",
    "\n",
    "    e.delete(0, END) #Entry text delete krne k liye\n",
    "\n",
    "txt = Text(root)\n",
    "txt.grid(row=0, column=0, columnspan=2)\n",
    "e=Entry(root, width=100)\n",
    "btn=Button(root, text=\"Send\", command=send).grid(row=1, column=1)\n",
    "e.grid(row=1, column=0)\n",
    "\n",
    "root.title(\"Chat Bot\")\n",
    "root.mainloop()"
   ]
  },
  {
   "cell_type": "code",
   "execution_count": null,
   "id": "a18980bc",
   "metadata": {},
   "outputs": [],
   "source": []
  }
 ],
 "metadata": {
  "kernelspec": {
   "display_name": "Python 3 (ipykernel)",
   "language": "python",
   "name": "python3"
  },
  "language_info": {
   "codemirror_mode": {
    "name": "ipython",
    "version": 3
   },
   "file_extension": ".py",
   "mimetype": "text/x-python",
   "name": "python",
   "nbconvert_exporter": "python",
   "pygments_lexer": "ipython3",
   "version": "3.9.7"
  }
 },
 "nbformat": 4,
 "nbformat_minor": 5
}
