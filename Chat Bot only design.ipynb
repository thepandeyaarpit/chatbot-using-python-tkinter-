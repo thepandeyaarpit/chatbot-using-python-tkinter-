{
 "cells": [
  {
   "cell_type": "code",
   "execution_count": 26,
   "id": "71b0f099",
   "metadata": {},
   "outputs": [],
   "source": [
    "#library\n",
    "from tkinter import *\n",
    "root = Tk()\n",
    "root.title(\"Chat Bot\")\n",
    "root.geometry(\"400x500\")\n",
    "\n",
    "#menu BAr\n",
    "main_menu = Menu(root)\n",
    "\n",
    "#sub menu\n",
    "file_menu = Menu(root)\n",
    "file_menu.add_command(label='New File')\n",
    "file_menu.add_command(label='Save As')\n",
    "file_menu.add_command(label='Exit')\n",
    "\n",
    "main_menu.add_cascade(label='File', menu = file_menu)\n",
    "main_menu.add_command(label='Edit')\n",
    "main_menu.add_command(label='Quit')\n",
    "root.config(menu=main_menu)\n",
    "\n",
    "\n",
    "#chat window\n",
    "chat_Window = Text(root, bd=1, bg='black', width=50, height=8)\n",
    "chat_Window.place(x=6, y=6, height=385, width=370)\n",
    "\n",
    "#message window\n",
    "message_Window = Text(root, bg='black', width=30, height=4)\n",
    "message_Window.place(x=128, y=400, width=260, height=88)\n",
    "\n",
    "#send button\n",
    "Button = Button(root, text='Send', bg='blue', activebackground='light blue', width=12, height=5, font=('Arial', 12))\n",
    "Button.place(x=6, y=400, height=88, width=120)\n",
    "\n",
    "#scroll BAr\n",
    "scrollbar = Scrollbar(root, command=chat_Window.yview())\n",
    "scrollbar.place(x=375, y=5, height=385)\n",
    "\n",
    "root.mainloop()"
   ]
  },
  {
   "cell_type": "code",
   "execution_count": 28,
   "id": "8c67cb4a",
   "metadata": {},
   "outputs": [],
   "source": []
  },
  {
   "cell_type": "code",
   "execution_count": null,
   "id": "5a438701",
   "metadata": {},
   "outputs": [],
   "source": []
  }
 ],
 "metadata": {
  "kernelspec": {
   "display_name": "Python 3 (ipykernel)",
   "language": "python",
   "name": "python3"
  },
  "language_info": {
   "codemirror_mode": {
    "name": "ipython",
    "version": 3
   },
   "file_extension": ".py",
   "mimetype": "text/x-python",
   "name": "python",
   "nbconvert_exporter": "python",
   "pygments_lexer": "ipython3",
   "version": "3.9.7"
  }
 },
 "nbformat": 4,
 "nbformat_minor": 5
}
